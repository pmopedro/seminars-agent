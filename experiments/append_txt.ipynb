{
 "cells": [
  {
   "cell_type": "code",
   "execution_count": 5,
   "id": "10c4d09f-2fef-4db1-bf2e-8fd13046f800",
   "metadata": {},
   "outputs": [
    {
     "name": "stdout",
     "output_type": "stream",
     "text": [
      "Appended 7 files to ../data/data.txt\n"
     ]
    }
   ],
   "source": [
    "import os\n",
    "import glob\n",
    "\n",
    "def append_files_to_data(pattern, output_file):\n",
    "    # Find all files matching the pattern\n",
    "    files = glob.glob(pattern)\n",
    "    \n",
    "    # Sort files to ensure they are processed in order\n",
    "    files.sort()\n",
    "    \n",
    "    # Open the output file in append mode\n",
    "    with open(output_file, 'a') as outfile:\n",
    "        for file in files:\n",
    "            with open(file, 'r') as infile:\n",
    "                # Append the content of each file to the output file\n",
    "                outfile.write(infile.read())\n",
    "                # Optionally add a newline or separator between file contents\n",
    "                outfile.write(\"\\n\")\n",
    "    \n",
    "    print(f\"Appended {len(files)} files to {output_file}\")\n",
    "\n",
    "# Define the pattern and output file\n",
    "pattern = '../data/sem*.txt'\n",
    "output_file = '../data/data.txt'\n",
    "\n",
    "# Call the function\n",
    "append_files_to_data(pattern, output_file)"
   ]
  },
  {
   "cell_type": "code",
   "execution_count": null,
   "id": "bc7e7d09-5b9e-422a-8d6a-5fa18546a26c",
   "metadata": {},
   "outputs": [],
   "source": []
  }
 ],
 "metadata": {
  "kernelspec": {
   "display_name": "Python 3 (ipykernel)",
   "language": "python",
   "name": "python3"
  },
  "language_info": {
   "codemirror_mode": {
    "name": "ipython",
    "version": 3
   },
   "file_extension": ".py",
   "mimetype": "text/x-python",
   "name": "python",
   "nbconvert_exporter": "python",
   "pygments_lexer": "ipython3",
   "version": "3.10.12"
  }
 },
 "nbformat": 4,
 "nbformat_minor": 5
}
