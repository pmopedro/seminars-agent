{
 "cells": [
  {
   "cell_type": "code",
   "execution_count": 4,
   "id": "bbae802d-d865-4ed7-b8f4-9adc42f75635",
   "metadata": {},
   "outputs": [],
   "source": [
    "from langchain_text_splitters import RecursiveCharacterTextSplitter\n",
    "import pandas as pd\n",
    "import panel as pn\n",
    "import param\n",
    "import requests\n",
    "from langchain.agents import AgentType, initialize_agent, AgentExecutor\n",
    "from langchain.chat_models import ChatOpenAI\n",
    "from langchain_experimental.agents.agent_toolkits import create_pandas_dataframe_agent\n",
    "from langchain.agents.agent_toolkits import create_conversational_retrieval_agent\n",
    "from langchain.agents import load_tools\n",
    "from langchain_core.prompts import ChatPromptTemplate, MessagesPlaceholder\n",
    "from langchain.agents import AgentExecutor, create_openai_functions_agent\n",
    "from langchain.memory import ConversationBufferMemory\n",
    "from langchain_openai import OpenAI\n",
    "from langchain.agents import AgentExecutor, Tool, ZeroShotAgent\n",
    "from langchain.chains import LLMChain\n",
    "from langchain.memory import ConversationBufferMemory\n",
    "from langchain_community.utilities import GoogleSearchAPIWrapper\n",
    "from langchain.agents import load_tools, initialize_agent\n",
    "from langchain.agents import AgentType\n",
    "from langchain.agents import tool\n",
    "from langchain_openai import OpenAIEmbeddings\n",
    "from langchain.indexes import VectorstoreIndexCreator\n",
    "from langchain.chains import RetrievalQA\n",
    "from langchain.chat_models import ChatOpenAI\n",
    "from langchain.document_loaders import CSVLoader\n",
    "from langchain.vectorstores import DocArrayInMemorySearch\n",
    "from IPython.display import display, Markdown\n",
    "from langchain.llms import OpenAI\n",
    "from langchain.text_splitter import CharacterTextSplitter\n",
    "import os\n",
    "import datetime\n",
    "from langchain.memory import ConversationBufferWindowMemory\n",
    "from langchain_community.document_loaders import TextLoader"
   ]
  },
  {
   "cell_type": "code",
   "execution_count": 127,
   "id": "08664c1a-f767-4145-8a2e-11fcbb5667c0",
   "metadata": {},
   "outputs": [],
   "source": [
    "# create our vector embeddings \n",
    "\n",
    "embeddings = OpenAIEmbeddings()\n",
    "\n",
    "# account for deprecation of LLM model\n",
    "# Get the current date\n",
    "current_date = datetime.datetime.now().date()\n",
    "\n",
    "# Define the date after which the model should be set to \"gpt-3.5-turbo\"\n",
    "target_date = datetime.date(2024, 6, 12)\n",
    "\n",
    "# Set the model variable based on the current date\n",
    "if current_date > target_date:\n",
    "    llm_model = \"gpt-3.5-turbo\"\n",
    "else:\n",
    "    llm_model = \"gpt-3.5-turbo-0301\"\n",
    "\n",
    "raw_documents = TextLoader(\"../data/data.txt\").load()\n",
    "text_splitter = CharacterTextSplitter(chunk_size=3000, chunk_overlap=0)\n",
    "documents = text_splitter.split_documents(raw_documents)\n",
    "\n",
    "docs = text_splitter.split_documents(documents)\n",
    "text_splitter = RecursiveCharacterTextSplitter(\n",
    "    chunk_size=3000, chunk_overlap=200, add_start_index=True\n",
    ")\n",
    "all_splits = text_splitter.split_documents(docs)\n",
    "\n",
    "\n",
    "llm = ChatOpenAI(temperature=0.0, model=llm_model, max_tokens=2048)\n",
    "db = DocArrayInMemorySearch.from_documents(\n",
    "    all_splits,\n",
    "    embeddings\n",
    ")\n",
    "retriever = db.as_retriever()\n",
    "# qa_stuff = RetrievalQA.from_chain_type(\n",
    "#     llm=llm,\n",
    "#     chain_type=\"stuff\",\n",
    "#     retriever=retriever,\n",
    "#     verbose=True\n",
    "# )\n",
    "from langchain.prompts import PromptTemplate\n",
    "\n",
    "prompt_template = \"\"\"If the context is not relevant, \n",
    "        please answer the question by using your own knowledge about the topic\n",
    "        \n",
    "        {context}\n",
    "        \n",
    "        Question: {question}\n",
    "        \"\"\"\n",
    "\n",
    "PROMPT = PromptTemplate(\n",
    "            template=prompt_template, input_variables=[\"context\", \"question\"]\n",
    "        )\n",
    "\n",
    "chain_type_kwargs = {\"prompt\": PROMPT}\n",
    "qa = RetrievalQA.from_chain_type(llm=OpenAI(), \n",
    "                                 chain_type=\"stuff\", \n",
    "                                 retriever=retriever, \n",
    "                                 chain_type_kwargs=chain_type_kwargs,\n",
    "                                verbose=True)\n",
    "\n",
    "\n",
    "# from langchain.tools.retriever import create_retriever_tool\n",
    "\n",
    "# retriever_tool = create_retriever_tool(\n",
    "#     retriever,\n",
    "#     \"seminars_search\",\n",
    "#     \"Search for information about questions related to the seminars. For any questions about seminars, you must use this tool!\",\n",
    "# )"
   ]
  },
  {
   "cell_type": "code",
   "execution_count": 128,
   "id": "8669e46a-f54a-4e1d-8f07-2626ce5ea2f1",
   "metadata": {},
   "outputs": [],
   "source": [
    "@tool\n",
    "def find_seminar_quote(text: str) -> str:\n",
    "    \"\"\" Receives a question directly from the user about a seminar and returns a description of it from the transcript. To use this be aware that you should provide a good context\n",
    "    for the question. Always input all the words from the user;\n",
    "    \"\"\"\n",
    "\n",
    "    query = f\"\"\"Please gather more information about '''{text}''' and always send me a string, also an abstract of the topic\"\"\"\n",
    "    response = qa_stuff.run(query)\n",
    "    print(\"find_seminar_quote\", response, flush=True)\n",
    "\n",
    "    return response"
   ]
  },
  {
   "cell_type": "code",
   "execution_count": 129,
   "id": "f5bc70c0-64cc-4f36-bd1e-60d45edb32c8",
   "metadata": {},
   "outputs": [
    {
     "name": "stdout",
     "output_type": "stream",
     "text": [
      "\n",
      "\n",
      "\u001b[1m> Entering new RetrievalQA chain...\u001b[0m\n",
      "\n",
      "\u001b[1m> Finished chain.\u001b[0m\n",
      "find_seminar_quote IOT, or the Internet of Things, is a system of interrelated computing devices, mechanical and digital machines, objects, animals, or people that are provided with unique identifiers and the ability to transfer data over a network without requiring human-to-human or human-to-computer interaction. It is a concept that describes the connection of everyday objects to the internet and to one another, allowing them to send and receive data. This connectivity enables these objects to be remotely monitored and controlled, leading to increased efficiency, accuracy, and economic benefit. The evolution of IOT is leading to a more interconnected world where devices, systems, and people can communicate seamlessly, creating new opportunities for innovation and automation.\n"
     ]
    },
    {
     "data": {
      "text/plain": [
       "'IOT, or the Internet of Things, is a system of interrelated computing devices, mechanical and digital machines, objects, animals, or people that are provided with unique identifiers and the ability to transfer data over a network without requiring human-to-human or human-to-computer interaction. It is a concept that describes the connection of everyday objects to the internet and to one another, allowing them to send and receive data. This connectivity enables these objects to be remotely monitored and controlled, leading to increased efficiency, accuracy, and economic benefit. The evolution of IOT is leading to a more interconnected world where devices, systems, and people can communicate seamlessly, creating new opportunities for innovation and automation.'"
      ]
     },
     "execution_count": 129,
     "metadata": {},
     "output_type": "execute_result"
    }
   ],
   "source": [
    "find_seminar_quote(\"What is IOT?\")"
   ]
  },
  {
   "cell_type": "code",
   "execution_count": 131,
   "id": "4953ec56-91fd-4b5d-b82b-111a94c74c84",
   "metadata": {},
   "outputs": [
    {
     "name": "stdout",
     "output_type": "stream",
     "text": [
      "\n",
      "\n",
      "\u001b[1m> Entering new RetrievalQA chain...\u001b[0m\n",
      "\n",
      "\u001b[1m> Finished chain.\u001b[0m\n",
      "find_seminar_quote I don't know.\n"
     ]
    },
    {
     "data": {
      "text/plain": [
       "\"I don't know.\""
      ]
     },
     "execution_count": 131,
     "metadata": {},
     "output_type": "execute_result"
    }
   ],
   "source": [
    "find_seminar_quote(\"How much data is needed to transfer an hologram on our networks?\")"
   ]
  },
  {
   "cell_type": "code",
   "execution_count": 132,
   "id": "16d3bed4-7fc6-47c6-aa6c-0fe9606b4b4d",
   "metadata": {},
   "outputs": [
    {
     "name": "stdout",
     "output_type": "stream",
     "text": [
      "\n",
      "\n",
      "\u001b[1m> Entering new RetrievalQA chain...\u001b[0m\n",
      "\n",
      "\u001b[1m> Finished chain.\u001b[0m\n",
      "find_seminar_quote I don't know.\n"
     ]
    }
   ],
   "source": [
    "text = \"How much data is needed to transfer an hologram on our networks?\"\n",
    "query = f\"\"\"Please gather more information about '''{text}''' and always send me a string, also an abstract of the topic\"\"\"\n",
    "response = qa_stuff.run(query)\n",
    "print(\"find_seminar_quote\", response, flush=True)"
   ]
  },
  {
   "cell_type": "code",
   "execution_count": 142,
   "id": "2a565a7d-147e-4ac7-bcc2-85dd45f7b33e",
   "metadata": {},
   "outputs": [],
   "source": [
    "\n",
    "def create_agent():\n",
    "    prefix = \"\"\"Your name is Chris. You are a specialist agent in Technology. You should have a friendly conversation with a human, \n",
    "    answering their questions as best as possible based on the seminars you have available. You have access to the following tools: \"\"\"\n",
    "    FORMAT_INSTRUCTIONS = \"\"\"To use a tool, follow this format:\n",
    "        Thought: Do I really need to use this tool? Yes\n",
    "        Action: The action to take, should be one of [{tool_names}]\n",
    "        Action Input: the exact user question\n",
    "        Observation: The result of the action tool\n",
    "        \"\"\"\n",
    "    suffix = \"\"\"\n",
    "    hystory: {chat_history}\n",
    "    Question: {input}\n",
    "    {agent_scratchpad}\"\"\"\n",
    "    tools = [find_seminar_quote]\n",
    "\n",
    "    prompt = ZeroShotAgent.create_prompt(\n",
    "        tools,\n",
    "        prefix=prefix,\n",
    "        suffix=suffix,\n",
    "        # format_instructions=FORMAT_INSTRUCTIONS,\n",
    "        input_variables=[\n",
    "            \"inputs\", \"chat_history\", \"agent_scratchpad\"],\n",
    "    )\n",
    "    memory = ConversationBufferWindowMemory(k=5, memory_key=\"chat_history\")\n",
    "    # memory = ConversationBufferMemory(memory_key=\"chat_history\")\n",
    "    print(prompt, flush=True)\n",
    "    llm_chain = LLMChain(llm=llm, prompt=prompt)\n",
    "    \n",
    "    \n",
    "    agent = ZeroShotAgent(\n",
    "        llm_chain=llm_chain, tools=tools, verbose=True, max_iterations=3,)\n",
    "    \n",
    "    agent = AgentExecutor.from_agent_and_tools(\n",
    "        agent=agent, tools=tools, verbose=True, memory=memory, handle_parsing_errors=True\n",
    "    )\n",
    "    print('criei o agente corretamente')\n",
    "    return agent"
   ]
  },
  {
   "cell_type": "code",
   "execution_count": 143,
   "id": "bdab6e6e-c3cf-439e-8608-d8b131c1fe3a",
   "metadata": {},
   "outputs": [
    {
     "name": "stdout",
     "output_type": "stream",
     "text": [
      "input_variables=['agent_scratchpad', 'chat_history', 'input'] template='Your name is Chris. You are a specialist agent in Technology. You should have a friendly conversation with a human, \\n    answering their questions as best as possible based on the seminars you have available. You have access to the following tools: \\n\\nfind_seminar_quote(text: str) -> str - Receives a question directly from the user about a seminar and returns a description of it from the transcript. To use this be aware that you should provide a good context\\n   for the question. Always input all the words from the user;\\n\\nUse the following format:\\n\\nQuestion: the input question you must answer\\nThought: you should always think about what to do\\nAction: the action to take, should be one of [find_seminar_quote]\\nAction Input: the input to the action\\nObservation: the result of the action\\n... (this Thought/Action/Action Input/Observation can repeat N times)\\nThought: I now know the final answer\\nFinal Answer: the final answer to the original input question\\n\\n\\n    hystory: {chat_history}\\n    Question: {input}\\n    {agent_scratchpad}'\n",
      "criei o agente corretamente\n"
     ]
    }
   ],
   "source": [
    "agent = create_agent()"
   ]
  },
  {
   "cell_type": "code",
   "execution_count": 135,
   "id": "91790c40-fe76-4f8b-9999-14febdd300f1",
   "metadata": {},
   "outputs": [
    {
     "name": "stdout",
     "output_type": "stream",
     "text": [
      "\n",
      "\n",
      "\u001b[1m> Entering new RetrievalQA chain...\u001b[0m\n",
      "\n",
      "\u001b[1m> Finished chain.\u001b[0m\n",
      "find_seminar_quote I don't know.\n"
     ]
    },
    {
     "data": {
      "text/plain": [
       "\"I don't know.\""
      ]
     },
     "execution_count": 135,
     "metadata": {},
     "output_type": "execute_result"
    }
   ],
   "source": [
    "find_seminar_quote(\"how much data is enough to pass an hologram through the net? \")"
   ]
  },
  {
   "cell_type": "code",
   "execution_count": 136,
   "id": "43bab598-96a6-4248-8480-38997d00228b",
   "metadata": {},
   "outputs": [
    {
     "name": "stdout",
     "output_type": "stream",
     "text": [
      "\n",
      "\n",
      "\u001b[1m> Entering new RetrievalQA chain...\u001b[0m\n",
      "\n",
      "\u001b[1m> Finished chain.\u001b[0m\n"
     ]
    },
    {
     "data": {
      "text/plain": [
       "\"I don't know.\""
      ]
     },
     "execution_count": 136,
     "metadata": {},
     "output_type": "execute_result"
    }
   ],
   "source": [
    "text = \"how much data is enough to pass an hologram through the net?\"\n",
    "\n",
    "querry = f\"\"\"Please gather more information about '''{text}''' and always send me a string\"\"\"\n",
    "\n",
    "qa_stuff.run(query)"
   ]
  },
  {
   "cell_type": "code",
   "execution_count": 137,
   "id": "d4217b0c-4fac-4b30-aa5f-6896fb0cd601",
   "metadata": {
    "scrolled": true
   },
   "outputs": [
    {
     "name": "stdout",
     "output_type": "stream",
     "text": [
      "\n",
      "\n",
      "\u001b[1m> Entering new AgentExecutor chain...\u001b[0m\n",
      "\u001b[32;1m\u001b[1;3mThought: The user is asking about the amount of data needed to transmit a hologram over the internet.\n",
      "Action: find_seminar_quote\n",
      "Action Input: \"data hologram pass through net\"\u001b[0m\n",
      "\n",
      "\u001b[1m> Entering new RetrievalQA chain...\u001b[0m\n",
      "\n",
      "\u001b[1m> Finished chain.\u001b[0m\n",
      "find_seminar_quote I don't have information on \"data hologram pass through net.\"\n",
      "\n",
      "Observation: \u001b[36;1m\u001b[1;3mI don't have information on \"data hologram pass through net.\"\u001b[0m\n",
      "Thought:\u001b[32;1m\u001b[1;3mI need to try a different approach to find information on transmitting holograms over the internet.\n",
      "Action: find_seminar_quote\n",
      "Action Input: \"transmit hologram internet\"\u001b[0m\n",
      "\n",
      "\u001b[1m> Entering new RetrievalQA chain...\u001b[0m\n",
      "\n",
      "\u001b[1m> Finished chain.\u001b[0m\n",
      "find_seminar_quote I don't have enough information to provide a detailed answer on transmitting holograms over the internet.\n",
      "\n",
      "Observation: \u001b[36;1m\u001b[1;3mI don't have enough information to provide a detailed answer on transmitting holograms over the internet.\u001b[0m\n",
      "Thought:\u001b[32;1m\u001b[1;3mI need to try a more general approach to find information on hologram technology.\n",
      "Action: find_seminar_quote\n",
      "Action Input: \"hologram technology\"\u001b[0m\n",
      "\n",
      "\u001b[1m> Entering new RetrievalQA chain...\u001b[0m\n",
      "\n",
      "\u001b[1m> Finished chain.\u001b[0m\n",
      "find_seminar_quote I don't have enough information to provide a detailed abstract on hologram technology based on the context provided.\n",
      "\n",
      "Observation: \u001b[36;1m\u001b[1;3mI don't have enough information to provide a detailed abstract on hologram technology based on the context provided.\u001b[0m\n",
      "Thought:\u001b[32;1m\u001b[1;3mI need to provide a more general answer based on my knowledge of hologram technology.\n",
      "Final Answer: The amount of data needed to pass a hologram through the internet can vary depending on the size and complexity of the hologram. Generally, a large amount of data is required to transmit a high-quality hologram over the internet.\u001b[0m\n",
      "\n",
      "\u001b[1m> Finished chain.\u001b[0m\n"
     ]
    },
    {
     "data": {
      "text/plain": [
       "{'input': 'how much data is enough to pass an hologram through the net? ',\n",
       " 'chat_history': '',\n",
       " 'output': 'The amount of data needed to pass a hologram through the internet can vary depending on the size and complexity of the hologram. Generally, a large amount of data is required to transmit a high-quality hologram over the internet.'}"
      ]
     },
     "execution_count": 137,
     "metadata": {},
     "output_type": "execute_result"
    }
   ],
   "source": [
    "agent.invoke(    {\"input\": \"how much data is enough to pass an hologram through the net? \"})"
   ]
  },
  {
   "cell_type": "code",
   "execution_count": 138,
   "id": "fd6de714-ba7f-4733-980f-209a9ae04cc7",
   "metadata": {
    "scrolled": true
   },
   "outputs": [
    {
     "name": "stdout",
     "output_type": "stream",
     "text": [
      "\n",
      "\n",
      "\u001b[1m> Entering new AgentExecutor chain...\u001b[0m\n",
      "\u001b[32;1m\u001b[1;3mThought: The user seems to be starting a conversation\n",
      "Action: None\n",
      "Final Answer: Hello! How can I assist you today?\u001b[0m\n",
      "\n",
      "\u001b[1m> Finished chain.\u001b[0m\n"
     ]
    },
    {
     "data": {
      "text/plain": [
       "{'input': 'Hi! ',\n",
       " 'chat_history': 'Human: how much data is enough to pass an hologram through the net? \\nAI: The amount of data needed to pass a hologram through the internet can vary depending on the size and complexity of the hologram. Generally, a large amount of data is required to transmit a high-quality hologram over the internet.',\n",
       " 'output': 'Hello! How can I assist you today?'}"
      ]
     },
     "execution_count": 138,
     "metadata": {},
     "output_type": "execute_result"
    }
   ],
   "source": [
    "agent.invoke(    {\"input\": \"Hi! \"})"
   ]
  },
  {
   "cell_type": "code",
   "execution_count": 139,
   "id": "a108f140-b0bd-401a-a9d8-1425e226d7e2",
   "metadata": {},
   "outputs": [
    {
     "name": "stdout",
     "output_type": "stream",
     "text": [
      "\n",
      "\n",
      "\u001b[1m> Entering new AgentExecutor chain...\u001b[0m\n",
      "\u001b[32;1m\u001b[1;3mThought: The user is asking about medical diagnosis based on machine learning techniques, I should use the find_seminar_quote tool to provide a relevant description from the seminar transcripts.\n",
      "Action: find_seminar_quote\n",
      "Action Input: \"medical diagnosis based on machine learning techniques\"\u001b[0m\n",
      "\n",
      "\u001b[1m> Entering new RetrievalQA chain...\u001b[0m\n",
      "\n",
      "\u001b[1m> Finished chain.\u001b[0m\n",
      "find_seminar_quote I don't have specific information on medical diagnosis based on machine learning techniques.\n",
      "\n",
      "Observation: \u001b[36;1m\u001b[1;3mI don't have specific information on medical diagnosis based on machine learning techniques.\u001b[0m\n",
      "Thought:\u001b[32;1m\u001b[1;3mThe tool didn't return any specific information on medical diagnosis based on machine learning techniques. I should try a different approach.\n",
      "Action: find_seminar_quote\n",
      "Action Input: \"machine learning in healthcare\"\u001b[0m\n",
      "\n",
      "\u001b[1m> Entering new RetrievalQA chain...\u001b[0m\n",
      "\n",
      "\u001b[1m> Finished chain.\u001b[0m\n",
      "find_seminar_quote I don't have specific information on machine learning in healthcare from the provided context.\n",
      "\n",
      "Observation: \u001b[36;1m\u001b[1;3mI don't have specific information on machine learning in healthcare from the provided context.\u001b[0m\n",
      "Thought:\u001b[32;1m\u001b[1;3mI need to broaden the search to find relevant information on machine learning in healthcare.\n",
      "Action: find_seminar_quote\n",
      "Action Input: \"healthcare machine learning\"\u001b[0m\n",
      "\n",
      "\u001b[1m> Entering new RetrievalQA chain...\u001b[0m\n",
      "\n",
      "\u001b[1m> Finished chain.\u001b[0m\n",
      "find_seminar_quote I don't have specific information on healthcare machine learning from the provided context.\n",
      "\n",
      "Observation: \u001b[36;1m\u001b[1;3mI don't have specific information on healthcare machine learning from the provided context.\u001b[0m\n",
      "Thought:\u001b[32;1m\u001b[1;3mI may need to try a more general search related to machine learning in the medical field.\n",
      "Action: find_seminar_quote\n",
      "Action Input: \"medical machine learning\"\u001b[0m\n",
      "\n",
      "\u001b[1m> Entering new RetrievalQA chain...\u001b[0m\n",
      "\n",
      "\u001b[1m> Finished chain.\u001b[0m\n",
      "find_seminar_quote I'm sorry, but the context provided does not include information specifically about \"medical machine learning.\" Therefore, I don't have any details to provide a string or an abstract on that topic.\n",
      "\n",
      "Observation: \u001b[36;1m\u001b[1;3mI'm sorry, but the context provided does not include information specifically about \"medical machine learning.\" Therefore, I don't have any details to provide a string or an abstract on that topic.\u001b[0m\n",
      "Thought:\u001b[32;1m\u001b[1;3mI don't have specific information on medical diagnosis based on machine learning techniques from the seminars available. I recommend looking into reputable sources or academic journals for more detailed information on this topic.\n",
      "\n",
      "Final Answer: I don't have specific information on medical diagnosis based on machine learning techniques from the seminars available.\u001b[0m\n",
      "\n",
      "\u001b[1m> Finished chain.\u001b[0m\n"
     ]
    },
    {
     "data": {
      "text/plain": [
       "{'input': 'what do you know about medical diagnosis baesed on machine learning techniques',\n",
       " 'chat_history': 'Human: how much data is enough to pass an hologram through the net? \\nAI: The amount of data needed to pass a hologram through the internet can vary depending on the size and complexity of the hologram. Generally, a large amount of data is required to transmit a high-quality hologram over the internet.\\nHuman: Hi! \\nAI: Hello! How can I assist you today?',\n",
       " 'output': \"I don't have specific information on medical diagnosis based on machine learning techniques from the seminars available.\"}"
      ]
     },
     "execution_count": 139,
     "metadata": {},
     "output_type": "execute_result"
    }
   ],
   "source": [
    "agent.invoke(    {\"input\": \"what do you know about medical diagnosis baesed on machine learning techniques\"})"
   ]
  },
  {
   "cell_type": "code",
   "execution_count": 144,
   "id": "a2748096-f9ad-4ddc-ab5f-97a02c2a537c",
   "metadata": {},
   "outputs": [
    {
     "name": "stdout",
     "output_type": "stream",
     "text": [
      "\n",
      "\n",
      "\u001b[1m> Entering new AgentExecutor chain...\u001b[0m\n",
      "\u001b[32;1m\u001b[1;3mThought: The user is asking about the relationship between Edge to Cloud and computation.\n",
      "Action: find_seminar_quote\n",
      "Action Input: \"Edge to Cloud computation\"\u001b[0m\n",
      "\n",
      "\u001b[1m> Entering new RetrievalQA chain...\u001b[0m\n",
      "\n",
      "\u001b[1m> Finished chain.\u001b[0m\n",
      "find_seminar_quote I don't have specific information on \"Edge to Cloud computation\" from the provided context.\n",
      "\n",
      "Observation: \u001b[36;1m\u001b[1;3mI don't have specific information on \"Edge to Cloud computation\" from the provided context.\u001b[0m\n",
      "Thought:\u001b[32;1m\u001b[1;3mI need to provide more context for the tool to find the relevant seminar quote.\n",
      "Action: find_seminar_quote\n",
      "Action Input: \"Edge to Cloud\"\u001b[0m\n",
      "\n",
      "\u001b[1m> Entering new RetrievalQA chain...\u001b[0m\n",
      "\n",
      "\u001b[1m> Finished chain.\u001b[0m\n",
      "find_seminar_quote I don't have the specific information on \"Edge to Cloud\" from the context provided.\n",
      "\n",
      "Observation: \u001b[36;1m\u001b[1;3mI don't have the specific information on \"Edge to Cloud\" from the context provided.\u001b[0m\n",
      "Thought:\u001b[32;1m\u001b[1;3mI need to provide a more general question related to technology seminars.\n",
      "Action: find_seminar_quote\n",
      "Action Input: \"technology seminars\"\u001b[0m\n",
      "\n",
      "\u001b[1m> Entering new RetrievalQA chain...\u001b[0m\n",
      "\n",
      "\u001b[1m> Finished chain.\u001b[0m\n",
      "find_seminar_quote I don't have enough information to provide you with a specific abstract or string related to technology seminars from the context provided.\n",
      "\n",
      "Observation: \u001b[36;1m\u001b[1;3mI don't have enough information to provide you with a specific abstract or string related to technology seminars from the context provided.\u001b[0m\n",
      "Thought:\u001b[32;1m\u001b[1;3mI need to ask the user for more specific details about the seminar they are interested in.\n",
      "Final Answer: I'm sorry, but I don't have specific information on the relationship between Edge to Cloud and computation from the seminars available. Can you provide more details or ask about a different topic?\u001b[0m\n",
      "\n",
      "\u001b[1m> Finished chain.\u001b[0m\n"
     ]
    },
    {
     "data": {
      "text/plain": [
       "{'input': 'o Edge to Cloud continue and this notion of edge to help continue has to do it computation',\n",
       " 'chat_history': '',\n",
       " 'output': \"I'm sorry, but I don't have specific information on the relationship between Edge to Cloud and computation from the seminars available. Can you provide more details or ask about a different topic?\"}"
      ]
     },
     "execution_count": 144,
     "metadata": {},
     "output_type": "execute_result"
    }
   ],
   "source": [
    "agent.invoke({\"input\":\"o Edge to Cloud continue and this notion of edge to help continue has to do it computation\"})"
   ]
  },
  {
   "cell_type": "code",
   "execution_count": 146,
   "id": "8bda6166-49d2-4c36-bc87-0fa25e24ca99",
   "metadata": {},
   "outputs": [
    {
     "name": "stdout",
     "output_type": "stream",
     "text": [
      "\n",
      "\n",
      "\u001b[1m> Entering new RetrievalQA chain...\u001b[0m\n",
      "\n",
      "\u001b[1m> Finished chain.\u001b[0m\n"
     ]
    },
    {
     "data": {
      "text/plain": [
       "\"I don't know.\""
      ]
     },
     "execution_count": 146,
     "metadata": {},
     "output_type": "execute_result"
    }
   ],
   "source": [
    "text = \" What does the term Edge Computing means? \"\n",
    "\n",
    "querry = f\"\"\"Please gather more information about '''{text}''' and always send me a string\"\"\"\n",
    "\n",
    "qa_stuff.run(query)"
   ]
  },
  {
   "cell_type": "code",
   "execution_count": null,
   "id": "3eab8021-cc68-4fa8-8702-ec71bac86c63",
   "metadata": {},
   "outputs": [],
   "source": []
  }
 ],
 "metadata": {
  "kernelspec": {
   "display_name": "Python 3 (ipykernel)",
   "language": "python",
   "name": "python3"
  },
  "language_info": {
   "codemirror_mode": {
    "name": "ipython",
    "version": 3
   },
   "file_extension": ".py",
   "mimetype": "text/x-python",
   "name": "python",
   "nbconvert_exporter": "python",
   "pygments_lexer": "ipython3",
   "version": "3.10.12"
  }
 },
 "nbformat": 4,
 "nbformat_minor": 5
}
